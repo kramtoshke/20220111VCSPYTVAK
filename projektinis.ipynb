{
 "cells": [
  {
   "cell_type": "code",
   "execution_count": 39,
   "metadata": {},
   "outputs": [
    {
     "name": "stdout",
     "output_type": "stream",
     "text": [
      "... --- ...\n",
      "PYTHON\n"
     ]
    }
   ],
   "source": [
    "def morzesabc(txt):\n",
    "    encrypted = {'A': '.-', 'B': '-...', 'C': '-.-.', \n",
    "                    'D': '-..', 'E': '.', 'F': '..-.', \n",
    "                    'G': '--.', 'H': '....','I': '..', \n",
    "                    'J': '.---', 'K': '-.-','L': '.-..',\n",
    "                    'M': '--', 'N': '-.','O': '---', \n",
    "                    'P': '.--.','Q': '--.-','R': '.-.', \n",
    "                    'S': '...', 'T': '-','U': '..-', \n",
    "                    'V': '...-', 'W': '.--','X': '-..-',\n",
    "                    'Y': '-.--', 'Z': '--..',\n",
    "                    '1': '.----','2': '..---', '3': '...--',\n",
    "                    '4': '....-', '5': '.....', '6': '-....',\n",
    "                    '7': '--...', '8': '---..', '9': '----.',\n",
    "                    '0': '-----', ', ': '--..--', '.': '.-.-.-',\n",
    "                    '?': '..--..', '/': '-..-.', '-': '-....-',\n",
    "                    '(': '-.--.', ')': '-.--.-'}\n",
    "    \n",
    "    decrypted = {v: k for k, v in encrypted.items()}\n",
    "\n",
    "    if '-' in txt:\n",
    "       return ''.join(decrypted[i] for i in txt.split())\n",
    "    return ' '.join(encrypted[i] for i in txt.upper())\n",
    "\n",
    "print(morzesabc(\"SOS\"))\n",
    "print(morzesabc('.--. -.-- - .... --- -.'))\n",
    "\n"
   ]
  },
  {
   "cell_type": "code",
   "execution_count": 1,
   "metadata": {},
   "outputs": [],
   "source": [
    "import tkinter\n",
    "import pytube\n",
    "\n",
    "root = tkinter.Tk()\n",
    "root.geometry(\"350x325\")\n",
    "root.title(\"YouTube Downloader\")\n",
    "root.resizable(0,0)\n",
    "root.wm_minsize(0,0)\n",
    "\n",
    "\n",
    "myVar = tkinter.StringVar()\n",
    "myVar.set(\"YouTube Link:\")\n",
    "tkinter.Label(root, textvariable=myVar, width=50).pack(pady=5)\n",
    "\n",
    "link = tkinter.StringVar()\n",
    "\n",
    "def download():\n",
    "   \n",
    "        myVar.set(\"\")\n",
    "        root.update()\n",
    "        pytube.YouTube(link.get()).streams.first().download(skip_existing=True, output_path=\"./\")\n",
    "        myVar.set(\"Great success\".format(title_wrapped))\n",
    "   \n",
    "\n",
    "tkinter.Entry(root, textvariable=link, width=40).pack(pady=10)\n",
    "tkinter.Button(root, text=f\"Download!\", command=download, fg=\"green\", bg=\"white\").pack()\n",
    "\n",
    "\n",
    "root.mainloop()"
   ]
  }
 ],
 "metadata": {
  "interpreter": {
   "hash": "b0fa6594d8f4cbf19f97940f81e996739fb7646882a419484c72d19e05852a7e"
  },
  "kernelspec": {
   "display_name": "Python 3.9.9 64-bit",
   "language": "python",
   "name": "python3"
  },
  "language_info": {
   "codemirror_mode": {
    "name": "ipython",
    "version": 3
   },
   "file_extension": ".py",
   "mimetype": "text/x-python",
   "name": "python",
   "nbconvert_exporter": "python",
   "pygments_lexer": "ipython3",
   "version": "3.9.7"
  },
  "orig_nbformat": 4
 },
 "nbformat": 4,
 "nbformat_minor": 2
}
