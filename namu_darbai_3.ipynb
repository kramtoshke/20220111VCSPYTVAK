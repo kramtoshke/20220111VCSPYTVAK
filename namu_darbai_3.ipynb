{
 "cells": [
  {
   "cell_type": "markdown",
   "metadata": {},
   "source": [
    "1. Parašykite funkciją, kuri priims string tipo kintamąjį, gražinkite kiek tame stringę yra raidžių, skaičių ir skyrybos (specialių) ženklų, tarpų.\n",
    "\n",
    "\n",
    "simboliu_ieskotojas('vienas 2 ??’)\n",
    "\n",
    "Raidžių yra 6, skaičių yra 1, specialių simbolių yra 2"
   ]
  },
  {
   "cell_type": "code",
   "execution_count": null,
   "metadata": {},
   "outputs": [],
   "source": []
  },
  {
   "cell_type": "markdown",
   "metadata": {},
   "source": [
    "2. Parašykite funkciją, kuri priima tris skaičius, jie reikš nuo, iki ir žingsnis. Funkcija turi grąžinti list'ą skaičių tokių, kokius padavėte funkcijai\n",
    "\n",
    "print(skaiciuKurejas(10,100,5)) \n",
    "[10, 15, 20, 25, 30, 35, 40, 45, 50, 55, 60, 65, 70, 75, 80, 85, 90, 95]"
   ]
  },
  {
   "cell_type": "code",
   "execution_count": null,
   "metadata": {},
   "outputs": [],
   "source": []
  },
  {
   "cell_type": "markdown",
   "metadata": {},
   "source": [
    "3. Parašyti funkciją, kuri priima vieną list'ą, funkcija grąžina skirtumą tarp didžiausio skaičiaus ir mažiausio skaičiaus\n",
    "\n",
    "\n",
    "my_function([1, 5, 6, 10, 4]) -> 9\n"
   ]
  },
  {
   "cell_type": "code",
   "execution_count": null,
   "metadata": {},
   "outputs": [],
   "source": []
  },
  {
   "cell_type": "markdown",
   "metadata": {},
   "source": [
    "4. Parašykite funkciją, kuri priims listą ir patikrins ar listo narys n+1 yra 1 didesnis nei n, jeigu visi listo nariai einantys vienas po kito yra didesni per 1, vadinasi anomalijos nėra, jei nors 1 narys neatitinka sekos, vadinasi yra anomalija.\n",
    "Pvz:\n",
    "\n",
    "\n",
    "anomaly_checker( [17,18,19,21] )\n",
    "\n",
    "Tarp skaiciu 17 ir 18 anomalijos nera \n",
    "Tarp skaiciu 18 ir 19 anomalijos nera \n",
    "Anomalija yra! Skaiciai 19 ir 21 nera einantys vienas po kito! Trukstamas skaicius yra 20"
   ]
  },
  {
   "cell_type": "code",
   "execution_count": null,
   "metadata": {},
   "outputs": [],
   "source": []
  }
 ],
 "metadata": {
  "language_info": {
   "name": "python"
  },
  "orig_nbformat": 4
 },
 "nbformat": 4,
 "nbformat_minor": 2
}
