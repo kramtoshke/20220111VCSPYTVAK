{
 "cells": [
  {
   "cell_type": "markdown",
   "metadata": {},
   "source": [
    "1. Parašykite funkciją, kuri priims string tipo kintamąjį, gražinkite kiek tame stringę yra raidžių, skaičių ir skyrybos (specialių) ženklų, tarpų.\n",
    "\n",
    "simboliu_ieskotojas('vienas 2 ??’)\n",
    "\n",
    "Raidžių yra 6, skaičių yra 1, specialių simbolių yra 2"
   ]
  },
  {
   "cell_type": "code",
   "execution_count": 437,
   "metadata": {},
   "outputs": [],
   "source": [
    "\n",
    "def function():\n",
    "    simboliu_ieskotojas=('vienas 2 ??')\n",
    "    raides = 0\n",
    "    skaiciai = 0\n",
    "    simboliai = 0\n",
    "    for i in simboliu_ieskotojas:\n",
    "        if i.isalpha():\n",
    "            raides +=1\n",
    "        elif i.isdigit():\n",
    "            skaiciai +=1\n",
    "        else:\n",
    "            if not i.isspace():\n",
    "                simboliai +=1\n",
    "    print(f'Raidžių yra {raides}, skaičių yra {skaiciai}, specialių simbolių yra {simboliai}')   \n"
   ]
  },
  {
   "cell_type": "code",
   "execution_count": 438,
   "metadata": {},
   "outputs": [
    {
     "name": "stdout",
     "output_type": "stream",
     "text": [
      "Raidžių yra 6, skaičių yra 1, specialių simbolių yra 2\n"
     ]
    }
   ],
   "source": [
    "function()"
   ]
  },
  {
   "cell_type": "markdown",
   "metadata": {},
   "source": [
    "2. Parašykite funkciją, kuri priima tris skaičius, jie reikš nuo, iki ir žingsnis. Funkcija turi grąžinti list'ą skaičių tokių, kokius padavėte funkcijai\n",
    "\n",
    "print(skaiciuKurejas(10,100,5)) \n",
    "[10, 15, 20, 25, 30, 35, 40, 45, 50, 55, 60, 65, 70, 75, 80, 85, 90, 95]"
   ]
  },
  {
   "cell_type": "code",
   "execution_count": 440,
   "metadata": {},
   "outputs": [
    {
     "data": {
      "text/plain": [
       "[]"
      ]
     },
     "execution_count": 440,
     "metadata": {},
     "output_type": "execute_result"
    }
   ],
   "source": [
    "def list_maker(start, end, step):\n",
    "    list_made = list(range(start, end, step))\n",
    "    return list_made\n",
    "\n",
    "list_start = int(input(\"Enter start number: \"))\n",
    "list_end = int(input(\"Enter end number: \"))\n",
    "list_step = int(input(\"Enter step: \"))\n",
    "\n",
    "list_maker(list_start, list_end, list_step)"
   ]
  },
  {
   "cell_type": "markdown",
   "metadata": {},
   "source": [
    "3. Parašyti funkciją, kuri priima vieną list'ą, funkcija grąžina skirtumą tarp didžiausio skaičiaus ir mažiausio skaičiaus\n",
    "\n",
    "\n",
    "my_function([1, 5, 6, 10, 4]) -> 9\n"
   ]
  },
  {
   "cell_type": "code",
   "execution_count": null,
   "metadata": {},
   "outputs": [],
   "source": [
    "list_1 = [7, 5, 4, 2, 9, 3]\n",
    "\n",
    "def function_1(list_inputed):\n",
    "    list_inputed.sort()\n",
    "    smallest_num = list_inputed[0]\n",
    "    biggest_num = list_inputed[-1]\n",
    "    difference = biggest_num - smallest_num\n",
    "    return (f\"The difference between the smallest ({smallest_num}) and the biggest ({biggest_num}) numbers on the list was {difference}\")\n",
    "\n",
    "def function_2(list_inputed):\n",
    "    smallest_num = min(list_inputed)\n",
    "    biggest_num = max(list_inputed)\n",
    "    return  biggest_num - smallest_num\n",
    "\n",
    "def my_function(*args):\n",
    "    print (type(args))\n",
    "    print (args)\n",
    "    print (*args)\n",
    "\n",
    "    # mylist=[*args]\n",
    "    mylist = list(args)\n",
    "    mylist.sort()\n",
    "    skirtumas= mylist[-1]-mylist[0]\n",
    "    return (f'{args} -> {skirtumas}')\n",
    "\n",
    "print (my_function(1, 5, 6, 10, 4) )\n",
    "\n",
    "print (function_1(list_1) )\n",
    "print (function_2(list_1) )"
   ]
  },
  {
   "cell_type": "markdown",
   "metadata": {},
   "source": [
    "4. Parašykite funkciją, kuri priims listą ir patikrins ar listo narys n+1 yra 1 didesnis nei n, jeigu visi listo nariai einantys vienas po kito yra didesni per 1, vadinasi anomalijos nėra, jei nors 1 narys neatitinka sekos, vadinasi yra anomalija.\n",
    "Pvz:\n",
    "\n",
    "\n",
    "anomaly_checker( [17,18,19,21] )\n",
    "\n",
    "Tarp skaiciu 17 ir 18 anomalijos nera \n",
    "Tarp skaiciu 18 ir 19 anomalijos nera \n",
    "Anomalija yra! Skaiciai 19 ir 21 nera einantys vienas po kito! Trukstamas skaicius yra 20"
   ]
  },
  {
   "cell_type": "code",
   "execution_count": null,
   "metadata": {},
   "outputs": [],
   "source": [
    "list_2 = [7, 8, 9, 10, 11, 12, 17, 18, 19]\n",
    "def anomaly_checker_a_4(list_given):\n",
    "\n",
    "    list_1 = list_given[:-1]\n",
    "    list_2 = list_given[1:]\n",
    "    for number_l, number_r in zip(list_1, list_2):\n",
    "        if number_l + 1 == number_r:\n",
    "            print(f'Tarp skaiciu {number_l} ir {number_r} anomalijos nera')\n",
    "        else:\n",
    "            numbers_missing = list(range(number_l + 1, number_r ) )\n",
    "            print(f\"Anomalija yra! Skaičiai {number_l} ir {number_r} nėra einantys vienas po kito! Trūksta {numbers_missing}.\")\n",
    "\n",
    "\n",
    "anomaly_checker_a_4(list_2)"
   ]
  }
 ],
 "metadata": {
  "interpreter": {
   "hash": "b0fa6594d8f4cbf19f97940f81e996739fb7646882a419484c72d19e05852a7e"
  },
  "kernelspec": {
   "display_name": "Python 3.9.9 64-bit",
   "language": "python",
   "name": "python3"
  },
  "language_info": {
   "codemirror_mode": {
    "name": "ipython",
    "version": 3
   },
   "file_extension": ".py",
   "mimetype": "text/x-python",
   "name": "python",
   "nbconvert_exporter": "python",
   "pygments_lexer": "ipython3",
   "version": "3.9.9"
  },
  "orig_nbformat": 4
 },
 "nbformat": 4,
 "nbformat_minor": 2
}
