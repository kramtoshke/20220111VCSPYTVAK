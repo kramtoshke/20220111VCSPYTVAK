{
 "cells": [
  {
   "cell_type": "code",
   "execution_count": 1,
   "metadata": {},
   "outputs": [],
   "source": [
    "class Sparagai:\n",
    "    def __init__(self, veisle, spalva, kiekis, klientas=None, :\n",
    "        self.veisle = veisle\n",
    "        self.spalva = spalva\n",
    "        self.kiekis = kiekis\n",
    "        self.klientas = klientas\n",
    "        \n",
    "\n",
    "    def set klientas(self, naujas_savininkas, terminas):\n",
    "        self._savininkas = naujas_savininkas\n",
    "        self._grazinimo_terminas = terminas\n",
    "\n",
    "    def __eq__(self, kita_knyga):\n",
    "        return self.pavadinimas == kita_knyga.pavadinimas and self.autorius == kita_knyga.autorius and self.metai == kita_knyga.metai\n",
    "        \n",
    "    def __repr__(self):\n",
    "        return f\"\"\" '{self.pavadinimas}', {self.autorius}, {self.metai} m. \"\"\""
   ]
  },
  {
   "cell_type": "code",
   "execution_count": 2,
   "metadata": {},
   "outputs": [
    {
     "name": "stdout",
     "output_type": "stream",
     "text": [
      "<class '__main__.Sparagai'>\n"
     ]
    }
   ],
   "source": []
  }
 ],
 "metadata": {
  "interpreter": {
   "hash": "b0fa6594d8f4cbf19f97940f81e996739fb7646882a419484c72d19e05852a7e"
  },
  "kernelspec": {
   "display_name": "Python 3.9.9 64-bit",
   "language": "python",
   "name": "python3"
  },
  "language_info": {
   "codemirror_mode": {
    "name": "ipython",
    "version": 3
   },
   "file_extension": ".py",
   "mimetype": "text/x-python",
   "name": "python",
   "nbconvert_exporter": "python",
   "pygments_lexer": "ipython3",
   "version": "3.9.9"
  },
  "orig_nbformat": 4
 },
 "nbformat": 4,
 "nbformat_minor": 2
}
