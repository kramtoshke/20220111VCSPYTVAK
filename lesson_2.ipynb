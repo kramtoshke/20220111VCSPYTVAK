{
 "cells": [
  {
   "cell_type": "code",
   "execution_count": 9,
   "metadata": {},
   "outputs": [],
   "source": [
    "text = 'Hello world'"
   ]
  },
  {
   "cell_type": "code",
   "execution_count": 10,
   "metadata": {},
   "outputs": [
    {
     "data": {
      "text/plain": [
       "'l'"
      ]
     },
     "execution_count": 10,
     "metadata": {},
     "output_type": "execute_result"
    }
   ],
   "source": [
    "text[2]"
   ]
  },
  {
   "cell_type": "code",
   "execution_count": 11,
   "metadata": {},
   "outputs": [
    {
     "data": {
      "text/plain": [
       "'world'"
      ]
     },
     "execution_count": 11,
     "metadata": {},
     "output_type": "execute_result"
    }
   ],
   "source": [
    "# [start:end:step]\n",
    "text[6:]"
   ]
  },
  {
   "cell_type": "code",
   "execution_count": 12,
   "metadata": {},
   "outputs": [],
   "source": [
    "text_2 = \"My name is Darius, I live in Vilnius Vilnius vilnius\""
   ]
  },
  {
   "cell_type": "code",
   "execution_count": 13,
   "metadata": {},
   "outputs": [
    {
     "name": "stdout",
     "output_type": "stream",
     "text": [
      "MY NAME IS DARIUS, I LIVE IN VILNIUS VILNIUS VILNIUS\n",
      "my name is darius, i live in vilnius vilnius vilnius\n",
      "My name is darius, i live in vilnius vilnius vilnius\n",
      "2\n",
      "3\n",
      "11\n",
      "Darius, I live in Vilnius Vilnius vilnius\n"
     ]
    }
   ],
   "source": [
    "print (text_2.upper() )\n",
    "print (text_2.lower() )\n",
    "print (text_2.capitalize() )\n",
    "print (text_2.count('Vilnius') )\n",
    "print (text_2.lower().count('vilnius') )\n",
    "print (text_2.find('Darius') )\n",
    "print (text_2[text_2.find('Darius'):]  )\n"
   ]
  },
  {
   "cell_type": "code",
   "execution_count": 14,
   "metadata": {},
   "outputs": [
    {
     "data": {
      "text/plain": [
       "11"
      ]
     },
     "execution_count": 14,
     "metadata": {},
     "output_type": "execute_result"
    }
   ],
   "source": [
    "\"My name is Darius, I live in  Vilnius Vilnius Darius Darius vilnius\".find('Darius')"
   ]
  },
  {
   "cell_type": "code",
   "execution_count": 15,
   "metadata": {},
   "outputs": [
    {
     "name": "stdout",
     "output_type": "stream",
     "text": [
      "False\n",
      "True\n",
      "False\n"
     ]
    }
   ],
   "source": [
    "print (text_2.isdigit() )\n",
    "print ('2'.isdigit() )\n",
    "print ('2 '.isdigit() )"
   ]
  },
  {
   "cell_type": "code",
   "execution_count": 16,
   "metadata": {},
   "outputs": [],
   "source": [
    "# perrasyti reiksme\n",
    "text_2 = text_2.lower()"
   ]
  },
  {
   "cell_type": "code",
   "execution_count": 17,
   "metadata": {},
   "outputs": [
    {
     "data": {
      "text/plain": [
       "41"
      ]
     },
     "execution_count": 17,
     "metadata": {},
     "output_type": "execute_result"
    }
   ],
   "source": [
    "\"My name is Darius, I live in  Vilnius 49489 Vilnius Darius Darius vilnius\".find('89')"
   ]
  },
  {
   "cell_type": "code",
   "execution_count": 18,
   "metadata": {},
   "outputs": [
    {
     "data": {
      "text/plain": [
       "'89'"
      ]
     },
     "execution_count": 18,
     "metadata": {},
     "output_type": "execute_result"
    }
   ],
   "source": [
    "\"My name is Darius, I live in  Vilnius 49489 Vilnius Darius Darius vilnius\"[41:43]"
   ]
  },
  {
   "cell_type": "code",
   "execution_count": 19,
   "metadata": {},
   "outputs": [
    {
     "name": "stdout",
     "output_type": "stream",
     "text": [
      "hello, I can't come\n",
      "hello, I can't come\n",
      "company \"Tesla\" just sold bla bla\n",
      "company \"Tesla\" just sold bla bla\n",
      "company \"Tesla\" just sold bla ' ' asdf'  bla \n",
      "Line one\n",
      "line two\n",
      "\n",
      "\n",
      "This is another line \n",
      "\n",
      "The end\n",
      "\n"
     ]
    }
   ],
   "source": [
    "quoted_text = 'hello'\n",
    "# quoted_text = 'hello, I can't come' # Neveiks\n",
    "quoted_text = \"hello, I can't come\"\n",
    "print (quoted_text)\n",
    "quoted_text = 'hello, I can\\'t come'\n",
    "print (quoted_text)\n",
    "# quoted_text = \"company \"Tesla\" just sold bla bla\" # neveiks\n",
    "quoted_text = 'company \"Tesla\" just sold bla bla'\n",
    "print (quoted_text)\n",
    "quoted_text = \"company \\\"Tesla\\\" just sold bla bla\"\n",
    "print (quoted_text)\n",
    "quoted_text = \"\"\"company \"Tesla\" just sold bla ' ' asdf'  bla \"\"\"\n",
    "print (quoted_text)\n",
    "\n",
    "# multiline_text = \"Line one\n",
    "# line two\" # EOL error - End Of Line \n",
    "multiline_text = \"\"\"Line one\n",
    "line two\n",
    "\n",
    "\n",
    "This is another line \n",
    "\n",
    "The end\n",
    "\"\"\"\n",
    "print (multiline_text)"
   ]
  },
  {
   "cell_type": "code",
   "execution_count": 20,
   "metadata": {},
   "outputs": [
    {
     "name": "stdout",
     "output_type": "stream",
     "text": [
      "Hello world my name is darius, i live in vilnius vilnius vilnius\n",
      "Darius Grigaliunas\n"
     ]
    }
   ],
   "source": [
    "print(text , text_2)\n",
    "print( 'Darius' + \" Grigaliunas\")"
   ]
  },
  {
   "cell_type": "code",
   "execution_count": 21,
   "metadata": {},
   "outputs": [
    {
     "name": "stdout",
     "output_type": "stream",
     "text": [
      "Mano vardas Darius, o pavarde Grigaliunas\n",
      "Mano vardas Darius, o pavarde Grigaliunas \n"
     ]
    }
   ],
   "source": [
    "name = 'Darius'\n",
    "surname = \"Grigaliunas\"\n",
    "# neformatuotas tekstas\n",
    "print('Mano vardas', name + ',', 'o pavarde', surname) \n",
    "# formatuotas tekstas\n",
    "print(f'Mano vardas {name}, o pavarde { surname } ') "
   ]
  },
  {
   "cell_type": "code",
   "execution_count": 22,
   "metadata": {},
   "outputs": [
    {
     "name": "stdout",
     "output_type": "stream",
     "text": [
      "PYTHON MAKES ME REALLY HAPPY TO\n",
      "PyThOn makes me really happy TO\n",
      "PyThOn makes me really happy to\n"
     ]
    }
   ],
   "source": [
    "text = 'Python makes me really happy to'\n",
    "print( text.upper() )\n",
    "print( text.replace( 't', 'T' ).replace('o', 'O') )\n",
    "print( text.replace( 'Python', 'PyThOn' ) )"
   ]
  },
  {
   "cell_type": "code",
   "execution_count": 23,
   "metadata": {},
   "outputs": [
    {
     "name": "stdout",
     "output_type": "stream",
     "text": [
      "happy\n",
      "learn\n",
      "to\n",
      "40\n"
     ]
    }
   ],
   "source": [
    "text_2 = 'Hello World, I am happy to learn Python!'\n",
    "word_to_find = 'learn'\n",
    "print (text_2[18:23] )\n",
    "# text_2.find('happy')\n",
    "# len('happy')\n",
    "print ( text_2[ text_2.find(word_to_find) : text_2.find(word_to_find) + len(word_to_find) ] )\n",
    "# atspaudi 'to'\n",
    "print ( text_2[24:26] )\n",
    "# simboliu kiekis\n",
    "print ( len(text_2) )"
   ]
  },
  {
   "cell_type": "code",
   "execution_count": 24,
   "metadata": {},
   "outputs": [
    {
     "name": "stdout",
     "output_type": "stream",
     "text": [
      "happy\n"
     ]
    }
   ],
   "source": [
    "text_5 = \"Hello World, I am happy to learn Python!\"\n",
    "# text[start:end:step]\n",
    "print( text_5[text_5.find(\"happy\") : text_5.find(\"happy\") + len(\"happy\") ] )\n",
    " "
   ]
  },
  {
   "cell_type": "markdown",
   "metadata": {},
   "source": [
    "# Numbers"
   ]
  },
  {
   "cell_type": "code",
   "execution_count": 25,
   "metadata": {},
   "outputs": [
    {
     "name": "stdout",
     "output_type": "stream",
     "text": [
      "<class 'int'>\n",
      "<class 'float'>\n"
     ]
    }
   ],
   "source": [
    "number = 11654\n",
    "print ( type(number) )\n",
    "float_number = 156.49\n",
    "print ( type(float_number) )"
   ]
  },
  {
   "cell_type": "code",
   "execution_count": 26,
   "metadata": {},
   "outputs": [
    {
     "name": "stdout",
     "output_type": "stream",
     "text": [
      "<class 'float'>\n",
      "75\n",
      "316\n",
      "19.75\n",
      "2.0\n",
      "2.25\n",
      "2\n",
      "1\n",
      "4\n",
      "1\n"
     ]
    }
   ],
   "source": [
    "suma = 184 + 24.48\n",
    "print (type(suma) )\n",
    "print ( 79 - 4 )\n",
    "print ( 79 * 4 )\n",
    "\n",
    "print ( 79 / 4 )\n",
    "print ( 8 / 4 )\n",
    "# print (type(''))\n",
    "print ( 9 / 4 )\n",
    "print ( 9 // 4 ) # sveika dalis\n",
    "print ( 9 % 4 ) # \n",
    "print ( 11 % 7) \n",
    "print ( 13 % 2) \n"
   ]
  },
  {
   "cell_type": "code",
   "execution_count": 27,
   "metadata": {},
   "outputs": [
    {
     "name": "stdout",
     "output_type": "stream",
     "text": [
      "4\n",
      "8\n",
      "16\n"
     ]
    }
   ],
   "source": [
    "print ( 2 ** 2 ) # kelimas laipsniu\n",
    "print ( 2 ** 3 )\n",
    "print ( 2 ** 4 )"
   ]
  },
  {
   "cell_type": "code",
   "execution_count": 28,
   "metadata": {},
   "outputs": [
    {
     "name": "stdout",
     "output_type": "stream",
     "text": [
      "<class 'int'>\n",
      "<class 'float'>\n"
     ]
    }
   ],
   "source": [
    "number=1234532\n",
    "print(type(number))\n",
    "float_number= 123.44\n",
    "print ( type(float_number) )\n"
   ]
  },
  {
   "cell_type": "code",
   "execution_count": 29,
   "metadata": {},
   "outputs": [
    {
     "name": "stdout",
     "output_type": "stream",
     "text": [
      "15\n",
      "-5\n",
      "50\n",
      "0.5\n",
      "5\n"
     ]
    }
   ],
   "source": [
    "int_1 = 5\n",
    "int_2 = 10\n",
    "\n",
    "print (int_1 + int_2)\n",
    "print (int_1 - int_2)\n",
    "print (int_1 * int_2)\n",
    "print (int_1 / int_2)\n",
    "print (int_1 % int_2)"
   ]
  },
  {
   "cell_type": "code",
   "execution_count": 30,
   "metadata": {},
   "outputs": [
    {
     "name": "stdout",
     "output_type": "stream",
     "text": [
      "15.65\n",
      "-4.65\n",
      "55.825\n",
      "0.541871921182266\n",
      "5.5\n"
     ]
    }
   ],
   "source": [
    "float_1 = 5.5\n",
    "float_2 = 10.15\n",
    "\n",
    "print (float_1 + float_2)\n",
    "print (float_1 - float_2)\n",
    "print (float_1 * float_2)\n",
    "print (float_1 / float_2)\n",
    "print (float_1 % float_2)"
   ]
  },
  {
   "cell_type": "code",
   "execution_count": 31,
   "metadata": {},
   "outputs": [
    {
     "name": "stdout",
     "output_type": "stream",
     "text": [
      "15\n",
      "-5\n",
      "50\n",
      "50\n",
      "0.5\n",
      "5\n"
     ]
    }
   ],
   "source": [
    "int_1=5\n",
    "int_2=10\n",
    "\n",
    "print (int_1+ int_2)\n",
    "print (int_1- int_2)\n",
    "print (int_1* int_2)\n",
    "print (int_1 * int_2)\n",
    "print (int_1 / int_2)\n",
    "print (int_1 % int_2)\n"
   ]
  },
  {
   "cell_type": "code",
   "execution_count": 32,
   "metadata": {},
   "outputs": [
    {
     "name": "stdout",
     "output_type": "stream",
     "text": [
      "Atstumas iki saules yra 390.625 kartu didesnis nei atstumas iki menulio \n",
      "2560.0\n",
      "3.4408602150537635\n",
      "0.2922374429223744\n",
      "9216000.0\n"
     ]
    }
   ],
   "source": [
    "dist_sun = 150000000\n",
    "dist_moon = 384000\n",
    "speed_per_hour = 150\n",
    "\n",
    "day = speed_per_hour*24\n",
    "month = day*31\n",
    "year = day*365\n",
    "minute = speed_per_hour/60\n",
    "second = minute/60\n",
    "\n",
    "\n",
    "print(f'Atstumas iki saules yra {dist_sun / dist_moon} kartu didesnis nei atstumas iki menulio ')\n",
    "\n",
    "# valandų skaičius iki mėnulio:\n",
    "print(dist_moon/speed_per_hour)\n",
    "\n",
    "#kiek menesiu iki mėnulio:\n",
    "print(dist_moon/month)\n",
    "\n",
    "#kiek metų iki mėnulio:\n",
    "print(dist_moon/year)\n",
    "\n",
    "# kiek sekundžių:\n",
    "print(dist_moon/second)"
   ]
  },
  {
   "cell_type": "code",
   "execution_count": 33,
   "metadata": {},
   "outputs": [
    {
     "name": "stdout",
     "output_type": "stream",
     "text": [
      "8678\n",
      "749846135.705096\n",
      "8678 days, 18:35:35.705096\n"
     ]
    }
   ],
   "source": [
    "from datetime import datetime, timedelta\n",
    "\n",
    "birthday = datetime(1998, 4, 16)\n",
    "now = datetime.now()\n",
    "time_passed = now - birthday\n",
    "print (time_passed.days)\n",
    "print (time_passed.total_seconds())\n",
    "print (time_passed)"
   ]
  },
  {
   "cell_type": "code",
   "execution_count": 34,
   "metadata": {},
   "outputs": [
    {
     "name": "stdout",
     "output_type": "stream",
     "text": [
      "True\n"
     ]
    }
   ],
   "source": [
    "text = ' hello world'\n",
    "true_1 = 'world' in text\n",
    "print (true_1)\n"
   ]
  },
  {
   "cell_type": "code",
   "execution_count": 35,
   "metadata": {},
   "outputs": [
    {
     "name": "stdout",
     "output_type": "stream",
     "text": [
      "False\n",
      "True\n",
      "False\n",
      "True\n",
      "True\n",
      "False\n",
      "True\n"
     ]
    }
   ],
   "source": [
    "print (2 > 5 )\n",
    "print (2 < 5 )\n",
    "print (5 > 5 )\n",
    "print (5 >= 5 )\n",
    "print (5 == 5 )\n",
    "print (8 == 5 )\n",
    "# = priskiria reiksme\n",
    "# == palygina ar lygus\n",
    "print (8 != 5 ) # tikrina ar nelygu"
   ]
  },
  {
   "cell_type": "code",
   "execution_count": 36,
   "metadata": {},
   "outputs": [
    {
     "name": "stdout",
     "output_type": "stream",
     "text": [
      "True\n",
      "<class 'bool'>\n",
      "True\n",
      "False\n",
      "True\n",
      "False\n"
     ]
    }
   ],
   "source": [
    "bool_1 = True\n",
    "print (bool_1)\n",
    "print (type(bool_1))\n",
    "print ( 1 == True)\n",
    "print ( 0.999 == True)\n",
    "print ( 0 == False)\n",
    "print ( 0.00001 == False)\n"
   ]
  },
  {
   "cell_type": "code",
   "execution_count": 37,
   "metadata": {},
   "outputs": [
    {
     "name": "stdout",
     "output_type": "stream",
     "text": [
      "True\n",
      "True\n",
      "True\n",
      "False\n",
      "False\n"
     ]
    }
   ],
   "source": [
    "print (bool(16549816489) )\n",
    "print (bool(0.5) )\n",
    "print (bool(1) )\n",
    "print (bool(0) )\n",
    "print (bool(0.0) )"
   ]
  },
  {
   "cell_type": "code",
   "execution_count": 38,
   "metadata": {},
   "outputs": [
    {
     "name": "stdout",
     "output_type": "stream",
     "text": [
      "True\n",
      "True\n",
      "False\n"
     ]
    }
   ],
   "source": [
    "print (bool('Darius') ) \n",
    "print (bool(' ') )\n",
    "print (bool('') )"
   ]
  },
  {
   "cell_type": "code",
   "execution_count": 39,
   "metadata": {},
   "outputs": [
    {
     "name": "stdout",
     "output_type": "stream",
     "text": [
      "Tavo vardas dar\n"
     ]
    }
   ],
   "source": [
    "user_name = input('Iveskite varda')\n",
    "if user_name:\n",
    "    print (f'Tavo vardas {user_name}')\n",
    "else:\n",
    "    print (f'Neirasete vardo')"
   ]
  },
  {
   "cell_type": "code",
   "execution_count": 40,
   "metadata": {},
   "outputs": [
    {
     "name": "stdout",
     "output_type": "stream",
     "text": [
      "False\n"
     ]
    }
   ],
   "source": [
    "false_bool = False\n",
    "print (false_bool)"
   ]
  },
  {
   "cell_type": "code",
   "execution_count": 41,
   "metadata": {},
   "outputs": [
    {
     "name": "stdout",
     "output_type": "stream",
     "text": [
      "False\n"
     ]
    }
   ],
   "source": [
    "a = bool('')\n",
    "print (a)"
   ]
  },
  {
   "cell_type": "markdown",
   "metadata": {},
   "source": [
    "### Jeigu kintamasis tuscias, tai bus False, visais kitais atvejais bus True"
   ]
  },
  {
   "cell_type": "code",
   "execution_count": 42,
   "metadata": {},
   "outputs": [
    {
     "name": "stdout",
     "output_type": "stream",
     "text": [
      "True\n",
      "True\n",
      "True\n",
      "True\n",
      "True\n"
     ]
    }
   ],
   "source": [
    "print ( 'zodis' in 'zodis ne zvirblis' )\n",
    "print ( 169 > 56 )\n",
    "print ( True == 1 )\n",
    "print ( not False  )\n",
    "print ( bool('kazkas') )\n"
   ]
  },
  {
   "cell_type": "code",
   "execution_count": 43,
   "metadata": {},
   "outputs": [
    {
     "name": "stdout",
     "output_type": "stream",
     "text": [
      "True\n",
      "False\n",
      "True\n",
      "True\n",
      "False\n"
     ]
    }
   ],
   "source": [
    "print (25 > 10 and 49 < 100 )\n",
    "print (25 > 10 and 49 < 10  )\n",
    "print (25 > 10 or 49 < 100  )\n",
    "print (25 > 10 or 49 < 10  )\n",
    "print (25 > 100 or 49 < 10 )"
   ]
  },
  {
   "cell_type": "code",
   "execution_count": 44,
   "metadata": {},
   "outputs": [
    {
     "name": "stdout",
     "output_type": "stream",
     "text": [
      "False\n",
      "False\n",
      "False\n",
      "False\n",
      "False\n"
     ]
    }
   ],
   "source": [
    "print ( 'Zodis' in 'zodis ne zvirblis' )\n",
    "print ( 169 < 56 )\n",
    "print ( True != 1 )\n",
    "print ( not True  )\n",
    "print ( bool('') )"
   ]
  },
  {
   "cell_type": "code",
   "execution_count": 45,
   "metadata": {},
   "outputs": [
    {
     "data": {
      "text/plain": [
       "True"
      ]
     },
     "execution_count": 45,
     "metadata": {},
     "output_type": "execute_result"
    }
   ],
   "source": [
    "'Zodis' in 'zodis ne zvirblis' and ( True and False ) or bool(1)\n",
    "# False and ( False ) or True\n",
    "# False or True\n",
    "# True"
   ]
  },
  {
   "cell_type": "code",
   "execution_count": 46,
   "metadata": {},
   "outputs": [],
   "source": [
    "tekstas_1 = 'Hello world'\n"
   ]
  },
  {
   "cell_type": "code",
   "execution_count": 47,
   "metadata": {},
   "outputs": [],
   "source": [
    "tekstas_1 = \"bye\" # perraso"
   ]
  },
  {
   "cell_type": "code",
   "execution_count": 48,
   "metadata": {},
   "outputs": [
    {
     "data": {
      "text/plain": [
       "'bye'"
      ]
     },
     "execution_count": 48,
     "metadata": {},
     "output_type": "execute_result"
    }
   ],
   "source": [
    "tekstas_1"
   ]
  },
  {
   "cell_type": "code",
   "execution_count": 49,
   "metadata": {},
   "outputs": [
    {
     "name": "stdout",
     "output_type": "stream",
     "text": [
      "-1.0999999999999996\n"
     ]
    }
   ],
   "source": [
    "# smulkmena, bet praeitą kartą iš float1 atimant float2, gavosi kitoks skaičius (šiek tiek) negu matematiškai\n",
    "float1=2.2\n",
    "float2=3.3\n",
    "print(float1-float2)\n",
    "\n"
   ]
  },
  {
   "cell_type": "code",
   "execution_count": 52,
   "metadata": {},
   "outputs": [
    {
     "name": "stdout",
     "output_type": "stream",
     "text": [
      "2\n",
      "4\n",
      "4\n"
     ]
    }
   ],
   "source": [
    "print(round(2.5) )\n",
    "print(round(3.5) )\n",
    "print(round(4.5) )"
   ]
  },
  {
   "cell_type": "code",
   "execution_count": null,
   "metadata": {},
   "outputs": [],
   "source": []
  }
 ],
 "metadata": {
  "interpreter": {
   "hash": "8c46c6c26e2733b62f4307cda0d230a15e363bc8de6d84ecceb81eda1bb129bc"
  },
  "kernelspec": {
   "display_name": "Python 3.7.9 64-bit",
   "language": "python",
   "name": "python3"
  },
  "language_info": {
   "codemirror_mode": {
    "name": "ipython",
    "version": 3
   },
   "file_extension": ".py",
   "mimetype": "text/x-python",
   "name": "python",
   "nbconvert_exporter": "python",
   "pygments_lexer": "ipython3",
   "version": "3.7.9"
  },
  "orig_nbformat": 4
 },
 "nbformat": 4,
 "nbformat_minor": 2
}
