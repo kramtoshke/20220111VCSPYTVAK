{
 "cells": [
  {
   "cell_type": "code",
   "execution_count": null,
   "metadata": {},
   "outputs": [],
   "source": [
    "text = 'hell world'"
   ]
  },
  {
   "cell_type": "code",
   "execution_count": 2,
   "metadata": {},
   "outputs": [
    {
     "ename": "NameError",
     "evalue": "name 'text' is not defined",
     "output_type": "error",
     "traceback": [
      "\u001b[0;31m---------------------------------------------------------------------------\u001b[0m",
      "\u001b[0;31mNameError\u001b[0m                                 Traceback (most recent call last)",
      "\u001b[0;32m/var/folders/n7/nl3r51111bd91bmy_cbvf8100000gn/T/ipykernel_96052/1977808110.py\u001b[0m in \u001b[0;36m<module>\u001b[0;34m\u001b[0m\n\u001b[1;32m      1\u001b[0m \u001b[0;31m# [start:end:step]\u001b[0m\u001b[0;34m\u001b[0m\u001b[0;34m\u001b[0m\u001b[0m\n\u001b[0;32m----> 2\u001b[0;31m \u001b[0mtext\u001b[0m \u001b[0;34m[\u001b[0m\u001b[0;36m6\u001b[0m\u001b[0;34m:\u001b[0m\u001b[0;34m]\u001b[0m\u001b[0;34m\u001b[0m\u001b[0;34m\u001b[0m\u001b[0m\n\u001b[0m",
      "\u001b[0;31mNameError\u001b[0m: name 'text' is not defined"
     ]
    }
   ],
   "source": [
    "# [start:end:step]\n",
    "text [6:]"
   ]
  },
  {
   "cell_type": "code",
   "execution_count": 8,
   "metadata": {},
   "outputs": [],
   "source": [
    "text_2 = \"My name is Paulius, I live in Vilnius vilnius\""
   ]
  },
  {
   "cell_type": "code",
   "execution_count": 13,
   "metadata": {},
   "outputs": [
    {
     "name": "stdout",
     "output_type": "stream",
     "text": [
      "MY NAME IS PAULIUS, I LIVE IN VILNIUS VILNIUS\n",
      "my name is paulius, i live in vilnius vilnius\n",
      "My name is paulius, i live in vilnius vilnius\n",
      "1\n",
      "2\n",
      "11\n"
     ]
    }
   ],
   "source": [
    "print (text_2.upper())\n",
    "print (text_2.lower())\n",
    "print (text_2.capitalize())\n",
    "print (text_2.count('Vilnius'))\n",
    "print (text_2.lower().count('vilnius'))\n",
    "print (text_2.find('Paulius'))\n",
    "\n"
   ]
  },
  {
   "cell_type": "code",
   "execution_count": 17,
   "metadata": {},
   "outputs": [
    {
     "name": "stdout",
     "output_type": "stream",
     "text": [
      "hello, i can't come\n"
     ]
    }
   ],
   "source": [
    "quoted_text = 'hello'\n",
    "quoted_text = \"hello, i can't come\" # kabute ' galim palikt, bet reikes uzbaigti komanda su \" \", kitu atveju iterpaim / tarp can/'t, taip dar paprasciau yra iterpti \"\"\"\" ..... \"\"\"\"\n",
    " print (quoted_text)\n",
    "\n"
   ]
  },
  {
   "cell_type": "code",
   "execution_count": 1,
   "metadata": {},
   "outputs": [
    {
     "name": "stdout",
     "output_type": "stream",
     "text": [
      "Paulius Bulota\n"
     ]
    }
   ],
   "source": [
    "name = \"Paulius\"\n",
    "lastname = 'Bulota'\n",
    "\n",
    "print(name, lastname)\n"
   ]
  },
  {
   "cell_type": "code",
   "execution_count": null,
   "metadata": {},
   "outputs": [],
   "source": [
    "#SKAICIAI"
   ]
  },
  {
   "cell_type": "code",
   "execution_count": 4,
   "metadata": {},
   "outputs": [
    {
     "name": "stdout",
     "output_type": "stream",
     "text": [
      "<class 'int'>\n",
      "<class 'float'>\n"
     ]
    }
   ],
   "source": [
    "number = 11564\n",
    "print (type (number))\n",
    "float_number = 156.49\n",
    "print (type (float_number))\n"
   ]
  },
  {
   "cell_type": "code",
   "execution_count": 8,
   "metadata": {},
   "outputs": [
    {
     "name": "stdout",
     "output_type": "stream",
     "text": [
      "<class 'float'>\n",
      "75\n",
      "316\n",
      "19.75\n",
      "2.0\n",
      "2.25\n",
      "2\n",
      "1\n",
      "4\n",
      "1\n",
      "4\n",
      "8\n",
      "16\n"
     ]
    }
   ],
   "source": [
    "suma = 184 + 24.48\n",
    "print (type(suma) )\n",
    "print ( 79 - 4 )\n",
    "print ( 79 * 4 )\n",
    "\n",
    "print ( 79 / 4 )\n",
    "print ( 8 / 4 )\n",
    "# print (type(''))\n",
    "print ( 9 / 4 )\n",
    "print ( 9 // 4 ) # sveika dalis\n",
    "print ( 9 % 4 ) # \n",
    "print ( 11 % 7) \n",
    "print ( 13 % 2)\n",
    "\n",
    "print ( 2 ** 2 ) # kelimas laipsniu\n",
    "print ( 2 ** 3 )\n",
    "print ( 2 ** 4 )\n"
   ]
  },
  {
   "cell_type": "markdown",
   "metadata": {},
   "source": [
    "#BOOLEAN DEKLARACIJA"
   ]
  },
  {
   "cell_type": "code",
   "execution_count": 15,
   "metadata": {},
   "outputs": [
    {
     "name": "stdout",
     "output_type": "stream",
     "text": [
      "True\n",
      "False\n",
      "True\n"
     ]
    }
   ],
   "source": [
    "print (25>10 and 49 < 100)\n",
    "print (25>10 and 49 < 10)\n",
    "print (25>10 or 49 < 10)\n",
    "\n"
   ]
  },
  {
   "cell_type": "code",
   "execution_count": 12,
   "metadata": {},
   "outputs": [
    {
     "name": "stdout",
     "output_type": "stream",
     "text": [
      "True\n",
      "True\n",
      "True\n"
     ]
    },
    {
     "data": {
      "text/plain": [
       "True"
      ]
     },
     "execution_count": 12,
     "metadata": {},
     "output_type": "execute_result"
    }
   ],
   "source": [
    "print ('zodis' in 'zodis ne zvirblis')\n",
    "print (169 > 56)\n",
    "print (True == 1)\n",
    "\n"
   ]
  }
 ],
 "metadata": {
  "interpreter": {
   "hash": "b0fa6594d8f4cbf19f97940f81e996739fb7646882a419484c72d19e05852a7e"
  },
  "kernelspec": {
   "display_name": "Python 3.9.9 64-bit",
   "language": "python",
   "name": "python3"
  },
  "language_info": {
   "codemirror_mode": {
    "name": "ipython",
    "version": 3
   },
   "file_extension": ".py",
   "mimetype": "text/x-python",
   "name": "python",
   "nbconvert_exporter": "python",
   "pygments_lexer": "ipython3",
   "version": "3.9.9"
  },
  "orig_nbformat": 4
 },
 "nbformat": 4,
 "nbformat_minor": 2
}
