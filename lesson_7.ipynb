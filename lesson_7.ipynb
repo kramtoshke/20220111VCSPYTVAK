{
 "cells": [
  {
   "cell_type": "code",
   "execution_count": 1,
   "metadata": {},
   "outputs": [
    {
     "data": {
      "text/plain": [
       "True"
      ]
     },
     "execution_count": 1,
     "metadata": {},
     "output_type": "execute_result"
    }
   ],
   "source": [
    "True and not False and ( [] or bool(\" \")) or 'word'.isdigit()\n",
    "True and ( [] or bool(\" \")) or 'word'.isdigit()\n",
    "True and True or 'word'.isdigit()\n",
    "True or 'word'.isdigit()\n",
    "True or False\n",
    "True "
   ]
  },
  {
   "cell_type": "code",
   "execution_count": null,
   "metadata": {},
   "outputs": [],
   "source": [
    "# [] or bool(\" \") ->  False or True -> True"
   ]
  },
  {
   "cell_type": "code",
   "execution_count": 2,
   "metadata": {},
   "outputs": [
    {
     "data": {
      "text/plain": [
       "True"
      ]
     },
     "execution_count": 2,
     "metadata": {},
     "output_type": "execute_result"
    }
   ],
   "source": [
    "True and not False"
   ]
  },
  {
   "cell_type": "markdown",
   "metadata": {},
   "source": [
    "# Class"
   ]
  },
  {
   "cell_type": "code",
   "execution_count": 38,
   "metadata": {},
   "outputs": [
    {
     "name": "stdout",
     "output_type": "stream",
     "text": [
      "1.5\n",
      "round\n",
      "2.25\n",
      "round\n"
     ]
    }
   ],
   "source": [
    "\n",
    "class Pipe:\n",
    "    def __init__(self, diameter, cross_section):\n",
    "        self.diameter = diameter\n",
    "        self.cross_section = cross_section\n",
    "    \n",
    "\n",
    "pipe_1 = Pipe(1.5, 'round')\n",
    "print (pipe_1.diameter)\n",
    "print (pipe_1.cross_section)\n",
    "\n",
    "pipe_2 = Pipe(2.25, 'round')\n",
    "print (pipe_2.diameter)\n",
    "print (pipe_2.cross_section)\n"
   ]
  },
  {
   "cell_type": "code",
   "execution_count": 39,
   "metadata": {},
   "outputs": [],
   "source": [
    "class Book:\n",
    "    def __init__(self, name, author):\n",
    "        self.name = name\n",
    "        self.author = author"
   ]
  },
  {
   "cell_type": "code",
   "execution_count": 41,
   "metadata": {},
   "outputs": [
    {
     "name": "stdout",
     "output_type": "stream",
     "text": [
      "Harry Potter\n",
      "Three body problem\n"
     ]
    }
   ],
   "source": [
    "book_1 = Book('Harry Potter', 'J.K. Rowling')\n",
    "book_2 = Book('Three body problem', 'Kazkas')\n",
    "print(book_1.name)\n",
    "print(book_2.name)"
   ]
  },
  {
   "cell_type": "code",
   "execution_count": 55,
   "metadata": {},
   "outputs": [
    {
     "name": "stdout",
     "output_type": "stream",
     "text": [
      "Pipe of diameter 1.5, and type round\n",
      "<class '__main__.Pipe'>\n",
      "1.5\n",
      "round\n",
      "Cross section area: 1.76625\n",
      "fluid flow rate: 0.883125\n",
      "\n",
      "Pipe of diameter 2.25, and type round\n",
      "<class '__main__.Pipe'>\n",
      "2.25\n",
      "round\n",
      "Cross section area: 3.9740625\n",
      "fluid flow rate: 1.98703125\n",
      "\n",
      "False\n",
      "True\n"
     ]
    }
   ],
   "source": [
    "\n",
    "class Pipe:\n",
    "    def __init__(self, diameter, cross_section_type):\n",
    "        self.diameter = diameter\n",
    "        self.cross_section_type = cross_section_type\n",
    "    \n",
    "    def flow_rate(self, velocity):\n",
    "        return self.cross_section() * velocity\n",
    "\n",
    "    def cross_section(self):\n",
    "        area = None\n",
    "        if self.cross_section_type == 'round':\n",
    "            area = 3.14 * (self.diameter / 2) ** 2\n",
    "        else:\n",
    "            raise NotImplementedError(f'Cross section of type {self.cross_section_type} not implemented')\n",
    "        return area\n",
    "\n",
    "    def __lt__(self, other_pipe):\n",
    "        return self.cross_section() < other_pipe.cross_section()\n",
    "\n",
    "    def __repr__(self):\n",
    "        return f'Pipe of diameter {self.diameter}, and type {self.cross_section_type}'\n",
    "    \n",
    "\n",
    "# flow_rate(3) # Error, not defined\n",
    "\n",
    "pipe_1 = Pipe(1.5, 'round')\n",
    "# print (pipe_1.diameter)\n",
    "# print (pipe_1.cross_section_type)\n",
    "# print ('Cross section area:', pipe_1.cross_section() )\n",
    "\n",
    "pipe_2 = Pipe(2.25, 'round')\n",
    "# print (pipe_2.diameter)\n",
    "# print (pipe_2.cross_section_type)\n",
    "# print ('Cross section area:',  pipe_2.cross_section() )\n",
    "\n",
    "pipes = [ pipe_1, pipe_2 ]\n",
    "for pipe in pipes:\n",
    "    print (pipe)\n",
    "    print (type(pipe))\n",
    "    print (pipe.diameter)\n",
    "    print (pipe.cross_section_type)\n",
    "    print ('Cross section area:',  pipe.cross_section() )\n",
    "    print ('fluid flow rate:',  pipe.flow_rate(0.5) )\n",
    "    print ()\n",
    "\n",
    "print (pipe_1 > pipe_2)\n",
    "print (pipe_1 < pipe_2)\n"
   ]
  },
  {
   "cell_type": "markdown",
   "metadata": {},
   "source": [
    "# Class inheritance"
   ]
  },
  {
   "cell_type": "code",
   "execution_count": 78,
   "metadata": {},
   "outputs": [],
   "source": [
    "class Pipe:\n",
    "    # def __init__(self):\n",
    "    #     # self.testas ='testas'\n",
    "    #     pass\n",
    "    \n",
    "    def cross_section(self):\n",
    "        raise NotImplementedError\n",
    "\n",
    "    def flow_rate(self, velocity):\n",
    "        return self.cross_section() * velocity"
   ]
  },
  {
   "cell_type": "code",
   "execution_count": 79,
   "metadata": {},
   "outputs": [],
   "source": [
    "class RectanglePipe(Pipe):\n",
    "    def __init__(self, width, height):\n",
    "        super().__init__()  # super() gets Pipe and runs it __init__ method\n",
    "        ### these are attributes\n",
    "        self.width = width\n",
    "        self.height = height\n",
    "\n",
    "    ### this  is a class method, we overwrite it\n",
    "    def cross_section(self):\n",
    "        return self.width * self.height"
   ]
  },
  {
   "cell_type": "code",
   "execution_count": 80,
   "metadata": {},
   "outputs": [],
   "source": [
    "class RoundPipe(Pipe):\n",
    "    def __init__(self, radius):\n",
    "        # super().__init__()  # super() gets Pipe and runs it __init__ method\n",
    "        self.radius = radius\n",
    "\n",
    "    def cross_section(self):\n",
    "        return 3.14 * self.radius ** 2"
   ]
  },
  {
   "cell_type": "code",
   "execution_count": 83,
   "metadata": {},
   "outputs": [
    {
     "name": "stdout",
     "output_type": "stream",
     "text": [
      "36\n"
     ]
    }
   ],
   "source": [
    "rectangle_pipe_1 = RectanglePipe(4,3)\n",
    "print (rectangle_pipe_1.flow_rate(3) )\n",
    "# print (rectangle_pipe_1.testas )"
   ]
  },
  {
   "cell_type": "code",
   "execution_count": 84,
   "metadata": {},
   "outputs": [
    {
     "name": "stdout",
     "output_type": "stream",
     "text": [
      "21.195\n"
     ]
    }
   ],
   "source": [
    "round_pipe_1 = RoundPipe(1.5)\n",
    "print (round_pipe_1.flow_rate(3) )\n",
    "# print (round_pipe_1.testas )"
   ]
  },
  {
   "cell_type": "code",
   "execution_count": 86,
   "metadata": {},
   "outputs": [],
   "source": [
    "class Knyga:\n",
    "    def __init__(self, pavadinimas, autorius, metai, puslapiu_kiekis, savininkas=None, grazinimo_terminas=None):\n",
    "        self.pavadinimas = pavadinimas\n",
    "        self.autorius = autorius\n",
    "        self.metai = metai\n",
    "        self.puslapiu_kiekis = puslapiu_kiekis\n",
    "        self._savininkas = savininkas\n",
    "        self._grazinimo_terminas = grazinimo_terminas\n",
    "\n",
    "    def set_savininkas(self, naujas_savininkas, terminas):\n",
    "        self._savininkas = naujas_savininkas\n",
    "        self._grazinimo_terminas = terminas\n",
    "\n",
    "    def __eq__(self, kita_knyga):\n",
    "        return self.pavadinimas == kita_knyga.pavadinimas and self.autorius == kita_knyga.autorius and self.metai == kita_knyga.metai\n",
    "        \n",
    "    def __repr__(self):\n",
    "        return f\"\"\" '{self.pavadinimas}', {self.autorius}, {self.metai} m. \"\"\""
   ]
  },
  {
   "cell_type": "code",
   "execution_count": 87,
   "metadata": {},
   "outputs": [],
   "source": [
    "import datetime\n",
    "\n",
    "class Biblioteka:\n",
    "    def __init__(self, pavadinimas):\n",
    "        self.pavadinimas = pavadinimas\n",
    "        self.knygos = []\n",
    "        \n",
    "    def prideti_knyga(self, knyga):\n",
    "        self.knygos.append(knyga)\n",
    "    \n",
    "    def pasalinti_knyga(self, knyga_pasalinimui):\n",
    "        self.knygos.remove(knyga_pasalinimui)\n",
    "        # for idx, knyga in enumerate (self.knygos):\n",
    "        #     if knyga.pavadinimas == knyga_pasalinimui.pavadinimas:\n",
    "\n",
    "    def paskolinti_knyga(self, knygos_pavadinimas, vartotojas):\n",
    "        laisva_knyga_rasta = False\n",
    "        \n",
    "        for knyga in self.knygos:\n",
    "            if knyga.pavadinimas == knygos_pavadinimas and knyga._savininkas is None:\n",
    "                # knyga.savininkas = vartotojas # better not use this\n",
    "                terminas = datetime.date.today() + datetime.timedelta(weeks=4)\n",
    "                knyga.set_savininkas(vartotojas, terminas)\n",
    "                laisva_knyga_rasta = True\n",
    "                break\n",
    "        if not laisva_knyga_rasta:\n",
    "            print (f\"Laisva knyga pavadinimu {knygos_pavadinimas} nerasta bibliotekoje.\")\n",
    "\n",
    "    def knygu_laisvumas(self):\n",
    "        for knyga in self.knygos:\n",
    "            print(f\"{knyga.pavadinimas} - { (knyga._savininkas, knyga._grazinimo_terminas)  if knyga._savininkas else 'laisva'}\")"
   ]
  },
  {
   "cell_type": "code",
   "execution_count": 93,
   "metadata": {},
   "outputs": [
    {
     "name": "stdout",
     "output_type": "stream",
     "text": [
      "True\n",
      "False\n",
      "[ 'knyga_5', Kazkoks zymus zmogus, 1843 m. ,  'knyga_2', Kazkoks zymus zmogus, 1983 m. ,  'knyga_3', Kitas zmogus, 1923 m. ]\n",
      "knyga_5 - laisva\n",
      "knyga_2 - laisva\n",
      "knyga_3 - laisva\n",
      "knyga_2 - laisva\n",
      "knyga_5 - laisva\n",
      "\n",
      "knyga_5 - laisva\n",
      "knyga_2 - ('Benas', datetime.date(2022, 3, 1))\n",
      "knyga_3 - ('Darius', datetime.date(2022, 3, 1))\n",
      "knyga_2 - laisva\n",
      "knyga_5 - laisva\n"
     ]
    }
   ],
   "source": [
    "knyga_1 = Knyga(\"knyga_5\", \"Kazkoks zymus zmogus\", 1843, 576 )\n",
    "knyga_2 = Knyga(\"knyga_2\", \"Kazkoks zymus zmogus\", 1983, 576 )\n",
    "knyga_3 = Knyga(\"knyga_3\", \"Kitas zmogus\", 1923, 547 )\n",
    "knyga_4 = Knyga(\"knyga_2\", \"Kazkas\", 1489, 4984 )\n",
    "knyga_5 = Knyga(\"knyga_5\", \"Kazkoks zymus zmogus\", 1843, 576 )\n",
    "\n",
    "print (knyga_1 == knyga_5 )\n",
    "print (knyga_1 == knyga_3 )\n",
    "\n",
    "mano_biblioteka = Biblioteka(\"Dariaus biblioteka\")\n",
    "mano_biblioteka.prideti_knyga(knyga_1)\n",
    "mano_biblioteka.prideti_knyga(knyga_2)\n",
    "mano_biblioteka.prideti_knyga(knyga_3)\n",
    "print (mano_biblioteka.knygos)\n",
    "mano_biblioteka.prideti_knyga(knyga_4)\n",
    "mano_biblioteka.prideti_knyga(knyga_5)\n",
    "mano_biblioteka.knygu_laisvumas()\n",
    "print ()\n",
    "mano_biblioteka.paskolinti_knyga(\"knyga_3\", \"Darius\")\n",
    "mano_biblioteka.paskolinti_knyga(\"knyga_2\", \"Benas\")\n",
    "mano_biblioteka.knygu_laisvumas()"
   ]
  }
 ],
 "metadata": {
  "interpreter": {
   "hash": "ce3f3f42ea1e24236ee7d8b6e939f07d74c5d5b656410ea2a0e47f46c58e1c3f"
  },
  "kernelspec": {
   "display_name": "Python 3.10.2 64-bit",
   "language": "python",
   "name": "python3"
  },
  "language_info": {
   "codemirror_mode": {
    "name": "ipython",
    "version": 3
   },
   "file_extension": ".py",
   "mimetype": "text/x-python",
   "name": "python",
   "nbconvert_exporter": "python",
   "pygments_lexer": "ipython3",
   "version": "3.10.2"
  },
  "orig_nbformat": 4
 },
 "nbformat": 4,
 "nbformat_minor": 2
}
