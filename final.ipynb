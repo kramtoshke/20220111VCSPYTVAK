{
 "cells": [
  {
   "cell_type": "code",
   "execution_count": 44,
   "metadata": {},
   "outputs": [
    {
     "name": "stdout",
     "output_type": "stream",
     "text": [
      ".\n",
      "PAULIUS\n"
     ]
    }
   ],
   "source": [
    "\n",
    "def morzesabc(txt):\n",
    "    encrypted = {'A': '.-', 'B': '-...', 'C': '-.-.', \n",
    "                    'D': '-..', 'E': '.', 'F': '..-.', \n",
    "                    'G': '--.', 'H': '....','I': '..', \n",
    "                    'J': '.---', 'K': '-.-','L': '.-..',\n",
    "                    'M': '--', 'N': '-.','O': '---', \n",
    "                    'P': '.--.','Q': '--.-','R': '.-.', \n",
    "                    'S': '...', 'T': '-','U': '..-', \n",
    "                    'V': '...-', 'W': '.--','X': '-..-',\n",
    "                    'Y': '-.--', 'Z': '--..',\n",
    "                    '1': '.----','2': '..---', '3': '...--',\n",
    "                    '4': '....-', '5': '.....', '6': '-....',\n",
    "                    '7': '--...', '8': '---..', '9': '----.',\n",
    "                    '0': '-----', ', ': '--..--', '.': '.-.-.-',\n",
    "                    '?': '..--..', '/': '-..-.', '-': '-....-',\n",
    "                    '(': '-.--.', ')': '-.--.-'}\n",
    "    \n",
    "    decrypted = {v: k for k, v in encrypted.items()}\n",
    "\n",
    "    if '-' in txt:\n",
    "       return ''.join(decrypted[i] for i in txt.split())\n",
    "    return ' '.join(encrypted[i] for i in txt.upper())\n",
    "\n",
    "\n",
    "print(morzesabc(\"paulius\"))\n",
    "print(morzesabc(\".--. .- ..- .-.. .. ..- ...\"))\n",
    "\n",
    "\n",
    "\n"
   ]
  },
  {
   "cell_type": "code",
   "execution_count": 4,
   "metadata": {},
   "outputs": [
    {
     "name": "stderr",
     "output_type": "stream",
     "text": [
      "Exception in Tkinter callback\n",
      "Traceback (most recent call last):\n",
      "  File \"/Library/Frameworks/Python.framework/Versions/3.9/lib/python3.9/tkinter/__init__.py\", line 1892, in __call__\n",
      "    return self.func(*args)\n",
      "  File \"/var/folders/n7/nl3r51111bd91bmy_cbvf8100000gn/T/ipykernel_31209/879462500.py\", line 20, in download\n",
      "    pytube.YouTube(link.get()).streams.first().download(skip_existing=True, output_path=\"./\")\n",
      "  File \"/Library/Frameworks/Python.framework/Versions/3.9/lib/python3.9/site-packages/pytube/__main__.py\", line 77, in __init__\n",
      "    self.video_id = extract.video_id(url)\n",
      "  File \"/Library/Frameworks/Python.framework/Versions/3.9/lib/python3.9/site-packages/pytube/extract.py\", line 80, in video_id\n",
      "    return regex_search(r\"(?:v=|\\/)([0-9A-Za-z_-]{11}).*\", url, group=1)\n",
      "  File \"/Library/Frameworks/Python.framework/Versions/3.9/lib/python3.9/site-packages/pytube/helpers.py\", line 34, in regex_search\n",
      "    raise RegexMatchError(caller=\"regex_search\", pattern=pattern)\n",
      "pytube.exceptions.RegexMatchError: regex_search: could not find match for (?:v=|\\/)([0-9A-Za-z_-]{11}).*\n"
     ]
    }
   ],
   "source": [
    "import tkinter\n",
    "import pytube\n",
    "\n",
    "root = tkinter.Tk()\n",
    "root.geometry(\"350x150\")\n",
    "root.title(\"YouTube Downloader\")\n",
    "root.resizable(0,0)\n",
    "\n",
    "\n",
    "x = tkinter.StringVar()\n",
    "x.set(\"YouTube link:\")\n",
    "tkinter.Label(root, textvariable=x, width=0).pack(pady=5)\n",
    "\n",
    "link = tkinter.StringVar()\n",
    "\n",
    "def download():\n",
    "   \n",
    "        x.set(\"\")\n",
    "        root.update()\n",
    "        pytube.YouTube(link.get()).streams.first().download(skip_existing=True, output_path=\"./\")\n",
    "        x.set(\"Great success\")\n",
    "   \n",
    "\n",
    "tkinter.Entry(root, textvariable=link, width=40).pack(pady=10)\n",
    "tkinter.Button(root, text=\"Download\", command=download, fg=\"red\", bg=\"white\").pack()\n",
    "\n",
    "root.mainloop()"
   ]
  }
 ],
 "metadata": {
  "interpreter": {
   "hash": "b0fa6594d8f4cbf19f97940f81e996739fb7646882a419484c72d19e05852a7e"
  },
  "kernelspec": {
   "display_name": "Python 3.9.9 64-bit",
   "language": "python",
   "name": "python3"
  },
  "language_info": {
   "codemirror_mode": {
    "name": "ipython",
    "version": 3
   },
   "file_extension": ".py",
   "mimetype": "text/x-python",
   "name": "python",
   "nbconvert_exporter": "python",
   "pygments_lexer": "ipython3",
   "version": "3.9.7"
  },
  "orig_nbformat": 4
 },
 "nbformat": 4,
 "nbformat_minor": 2
}
