{
 "cells": [
  {
   "cell_type": "code",
   "execution_count": 13,
   "metadata": {},
   "outputs": [
    {
     "name": "stdout",
     "output_type": "stream",
     "text": [
      ".--. .- ..- .-.. .. ..- ...\n",
      "PAULIUS\n"
     ]
    }
   ],
   "source": [
    "\n",
    "def morzesabc(txt):\n",
    "    encrypted = {'A': '.-', 'B': '-...', 'C': '-.-.', \n",
    "                    'D': '-..', 'E': '.', 'F': '..-.', \n",
    "                    'G': '--.', 'H': '....','I': '..', \n",
    "                    'J': '.---', 'K': '-.-','L': '.-..',\n",
    "                    'M': '--', 'N': '-.','O': '---', \n",
    "                    'P': '.--.','Q': '--.-','R': '.-.', \n",
    "                    'S': '...', 'T': '-','U': '..-', \n",
    "                    'V': '...-', 'W': '.--','X': '-..-',\n",
    "                    'Y': '-.--', 'Z': '--..',\n",
    "                    '1': '.----','2': '..---', '3': '...--',\n",
    "                    '4': '....-', '5': '.....', '6': '-....',\n",
    "                    '7': '--...', '8': '---..', '9': '----.',\n",
    "                    '0': '-----', ', ': '--..--', '.': '.-.-.-',\n",
    "                    '?': '..--..', '/': '-..-.', '-': '-....-',\n",
    "                    '(': '-.--.', ')': '-.--.-'}\n",
    "    \n",
    "    decrypted = {v: k for k, v in encrypted.items()}\n",
    "\n",
    "    if '-' in txt:\n",
    "       return ''.join(decrypted[i] for i in txt.split())\n",
    "    return ' '.join(encrypted[i] for i in txt.upper())\n",
    "\n",
    "\n",
    "print(morzesabc(\"paulius\"))\n",
    "print(morzesabc(\".--. .- ..- .-.. .. ..- ...\"))\n",
    "\n",
    "\n",
    "\n"
   ]
  },
  {
   "cell_type": "code",
   "execution_count": 12,
   "metadata": {},
   "outputs": [
    {
     "name": "stderr",
     "output_type": "stream",
     "text": [
      "Exception in Tkinter callback\n",
      "Traceback (most recent call last):\n",
      "  File \"/Library/Frameworks/Python.framework/Versions/3.9/lib/python3.9/tkinter/__init__.py\", line 1892, in __call__\n",
      "    return self.func(*args)\n",
      "  File \"/var/folders/n7/nl3r51111bd91bmy_cbvf8100000gn/T/ipykernel_43387/879462500.py\", line 20, in download\n",
      "    pytube.YouTube(link.get()).streams.first().download(skip_existing=True, output_path=\"./\")\n",
      "  File \"/Library/Frameworks/Python.framework/Versions/3.9/lib/python3.9/site-packages/pytube/__main__.py\", line 77, in __init__\n",
      "    self.video_id = extract.video_id(url)\n",
      "  File \"/Library/Frameworks/Python.framework/Versions/3.9/lib/python3.9/site-packages/pytube/extract.py\", line 80, in video_id\n",
      "    return regex_search(r\"(?:v=|\\/)([0-9A-Za-z_-]{11}).*\", url, group=1)\n",
      "  File \"/Library/Frameworks/Python.framework/Versions/3.9/lib/python3.9/site-packages/pytube/helpers.py\", line 34, in regex_search\n",
      "    raise RegexMatchError(caller=\"regex_search\", pattern=pattern)\n",
      "pytube.exceptions.RegexMatchError: regex_search: could not find match for (?:v=|\\/)([0-9A-Za-z_-]{11}).*\n"
     ]
    }
   ],
   "source": [
    "import tkinter\n",
    "import pytube\n",
    "\n",
    "root = tkinter.Tk()\n",
    "root.geometry(\"350x150\")\n",
    "root.title(\"YouTube Downloader\")\n",
    "root.resizable(0,0)\n",
    "\n",
    "\n",
    "x = tkinter.StringVar()\n",
    "x.set(\"YouTube link:\")\n",
    "tkinter.Label(root, textvariable=x, width=0).pack(pady=5)\n",
    "\n",
    "link = tkinter.StringVar()\n",
    "\n",
    "def download():\n",
    "   \n",
    "        x.set(\"\")\n",
    "        root.update()\n",
    "        pytube.YouTube(link.get()).streams.first().download(skip_existing=True, output_path=\"./\")\n",
    "        x.set(\"Great success\")\n",
    "   \n",
    "\n",
    "tkinter.Entry(root, textvariable=link, width=40).pack(pady=10)\n",
    "tkinter.Button(root, text=\"Download\", command=download, fg=\"red\", bg=\"white\").pack()\n",
    "\n",
    "root.mainloop()"
   ]
  },
  {
   "cell_type": "code",
   "execution_count": 11,
   "metadata": {},
   "outputs": [
    {
     "ename": "KeyboardInterrupt",
     "evalue": "",
     "output_type": "error",
     "traceback": [
      "\u001b[0;31m---------------------------------------------------------------------------\u001b[0m",
      "\u001b[0;31mKeyboardInterrupt\u001b[0m                         Traceback (most recent call last)",
      "Input \u001b[0;32mIn [11]\u001b[0m, in \u001b[0;36m<module>\u001b[0;34m\u001b[0m\n\u001b[1;32m     11\u001b[0m engine\u001b[38;5;241m.\u001b[39mstop()\n\u001b[1;32m     13\u001b[0m engine\u001b[38;5;241m.\u001b[39msave_to_file(text, \u001b[38;5;124m'\u001b[39m\u001b[38;5;124mtest.mp3\u001b[39m\u001b[38;5;124m'\u001b[39m)\n\u001b[0;32m---> 14\u001b[0m \u001b[43mengine\u001b[49m\u001b[38;5;241;43m.\u001b[39;49m\u001b[43mrunAndWait\u001b[49m\u001b[43m(\u001b[49m\u001b[43m)\u001b[49m\n",
      "File \u001b[0;32m/Library/Frameworks/Python.framework/Versions/3.9/lib/python3.9/site-packages/pyttsx3/engine.py:180\u001b[0m, in \u001b[0;36mEngine.runAndWait\u001b[0;34m(self)\u001b[0m\n\u001b[1;32m    178\u001b[0m \u001b[38;5;28mself\u001b[39m\u001b[38;5;241m.\u001b[39m_inLoop \u001b[38;5;241m=\u001b[39m \u001b[38;5;28;01mTrue\u001b[39;00m\n\u001b[1;32m    179\u001b[0m \u001b[38;5;28mself\u001b[39m\u001b[38;5;241m.\u001b[39m_driverLoop \u001b[38;5;241m=\u001b[39m \u001b[38;5;28;01mTrue\u001b[39;00m\n\u001b[0;32m--> 180\u001b[0m \u001b[38;5;28;43mself\u001b[39;49m\u001b[38;5;241;43m.\u001b[39;49m\u001b[43mproxy\u001b[49m\u001b[38;5;241;43m.\u001b[39;49m\u001b[43mrunAndWait\u001b[49m\u001b[43m(\u001b[49m\u001b[43m)\u001b[49m\n",
      "File \u001b[0;32m/Library/Frameworks/Python.framework/Versions/3.9/lib/python3.9/site-packages/pyttsx3/driver.py:192\u001b[0m, in \u001b[0;36mDriverProxy.runAndWait\u001b[0;34m(self)\u001b[0m\n\u001b[1;32m    187\u001b[0m \u001b[38;5;124;03m'''\u001b[39;00m\n\u001b[1;32m    188\u001b[0m \u001b[38;5;124;03mCalled by the engine to start an event loop, process all commands in\u001b[39;00m\n\u001b[1;32m    189\u001b[0m \u001b[38;5;124;03mthe queue at the start of the loop, and then exit the loop.\u001b[39;00m\n\u001b[1;32m    190\u001b[0m \u001b[38;5;124;03m'''\u001b[39;00m\n\u001b[1;32m    191\u001b[0m \u001b[38;5;28mself\u001b[39m\u001b[38;5;241m.\u001b[39m_push(\u001b[38;5;28mself\u001b[39m\u001b[38;5;241m.\u001b[39m_engine\u001b[38;5;241m.\u001b[39mendLoop, \u001b[38;5;28mtuple\u001b[39m())\n\u001b[0;32m--> 192\u001b[0m \u001b[38;5;28;43mself\u001b[39;49m\u001b[38;5;241;43m.\u001b[39;49m\u001b[43m_driver\u001b[49m\u001b[38;5;241;43m.\u001b[39;49m\u001b[43mstartLoop\u001b[49m\u001b[43m(\u001b[49m\u001b[43m)\u001b[49m\n",
      "File \u001b[0;32m/Library/Frameworks/Python.framework/Versions/3.9/lib/python3.9/site-packages/pyttsx3/drivers/nsss.py:35\u001b[0m, in \u001b[0;36mNSSpeechDriver.startLoop\u001b[0;34m(self)\u001b[0m\n\u001b[1;32m     32\u001b[0m \u001b[38;5;28;01mdef\u001b[39;00m \u001b[38;5;21mstartLoop\u001b[39m(\u001b[38;5;28mself\u001b[39m):\n\u001b[1;32m     33\u001b[0m     NSTimer\u001b[38;5;241m.\u001b[39mscheduledTimerWithTimeInterval_target_selector_userInfo_repeats_(\n\u001b[1;32m     34\u001b[0m         \u001b[38;5;241m0.0\u001b[39m, \u001b[38;5;28mself\u001b[39m, \u001b[38;5;124m'\u001b[39m\u001b[38;5;124monPumpFirst:\u001b[39m\u001b[38;5;124m'\u001b[39m, \u001b[38;5;28;01mNone\u001b[39;00m, \u001b[38;5;28;01mFalse\u001b[39;00m)\n\u001b[0;32m---> 35\u001b[0m     \u001b[43mAppHelper\u001b[49m\u001b[38;5;241;43m.\u001b[39;49m\u001b[43mrunConsoleEventLoop\u001b[49m\u001b[43m(\u001b[49m\u001b[43m)\u001b[49m\n",
      "File \u001b[0;32m/Library/Frameworks/Python.framework/Versions/3.9/lib/python3.9/site-packages/PyObjCTools/AppHelper.py:263\u001b[0m, in \u001b[0;36mrunConsoleEventLoop\u001b[0;34m(argv, installInterrupt, mode, maxTimeout)\u001b[0m\n\u001b[1;32m    261\u001b[0m         \u001b[38;5;28;01mif\u001b[39;00m nextfire \u001b[38;5;129;01mis\u001b[39;00m \u001b[38;5;129;01mnot\u001b[39;00m \u001b[38;5;28;01mNone\u001b[39;00m:\n\u001b[1;32m    262\u001b[0m             nextfire \u001b[38;5;241m=\u001b[39m soon\u001b[38;5;241m.\u001b[39mearlierDate_(nextfire)\n\u001b[0;32m--> 263\u001b[0m         \u001b[38;5;28;01mif\u001b[39;00m \u001b[38;5;129;01mnot\u001b[39;00m \u001b[43mrunLoop\u001b[49m\u001b[38;5;241;43m.\u001b[39;49m\u001b[43mrunMode_beforeDate_\u001b[49m\u001b[43m(\u001b[49m\u001b[43mmode\u001b[49m\u001b[43m,\u001b[49m\u001b[43m \u001b[49m\u001b[43mnextfire\u001b[49m\u001b[43m)\u001b[49m:\n\u001b[1;32m    264\u001b[0m             stopper\u001b[38;5;241m.\u001b[39mstop()\n\u001b[1;32m    266\u001b[0m \u001b[38;5;28;01mfinally\u001b[39;00m:\n",
      "\u001b[0;31mKeyboardInterrupt\u001b[0m: "
     ]
    }
   ],
   "source": [
    "# text to voice.mp3\n",
    "\n",
    "import pyttsx3\n",
    "\n",
    "engine = pyttsx3.init()\n",
    "\n",
    "text = input(\"Enter the text: \")\n",
    "\n",
    "engine.say(text) \n",
    "engine.runAndWait() \n",
    "engine.stop()\n",
    "\n",
    "engine.save_to_file(text, 'test.mp3')\n",
    "engine.runAndWait()\n",
    "\n"
   ]
  }
 ],
 "metadata": {
  "interpreter": {
   "hash": "b0fa6594d8f4cbf19f97940f81e996739fb7646882a419484c72d19e05852a7e"
  },
  "kernelspec": {
   "display_name": "Python 3.9.9 64-bit",
   "language": "python",
   "name": "python3"
  },
  "language_info": {
   "codemirror_mode": {
    "name": "ipython",
    "version": 3
   },
   "file_extension": ".py",
   "mimetype": "text/x-python",
   "name": "python",
   "nbconvert_exporter": "python",
   "pygments_lexer": "ipython3",
   "version": "3.9.7"
  },
  "orig_nbformat": 4
 },
 "nbformat": 4,
 "nbformat_minor": 2
}
