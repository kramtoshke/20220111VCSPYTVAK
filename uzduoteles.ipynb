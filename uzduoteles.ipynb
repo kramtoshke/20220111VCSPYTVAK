{
 "cells": [
  {
   "cell_type": "markdown",
   "metadata": {},
   "source": [
    "Pirma uzduotis"
   ]
  },
  {
   "cell_type": "code",
   "execution_count": 1,
   "metadata": {},
   "outputs": [
    {
     "name": "stdout",
     "output_type": "stream",
     "text": [
      "Paulius Bulota\n"
     ]
    }
   ],
   "source": [
    "name = \"Paulius\"\n",
    "lastname = 'Bulota'\n",
    "\n",
    "print(name, lastname)"
   ]
  },
  {
   "cell_type": "markdown",
   "metadata": {},
   "source": [
    "Antra uzduotis Python makes me really really happy!"
   ]
  },
  {
   "cell_type": "code",
   "execution_count": 2,
   "metadata": {},
   "outputs": [
    {
     "name": "stdout",
     "output_type": "stream",
     "text": [
      "PYTHON MAKES ME REALLY REALLY HAPPY\n",
      "PyThOn makes me really really happy\n"
     ]
    }
   ],
   "source": [
    "text_2=\"Python makes me really really happy\"\n",
    "print (text_2.upper())\n",
    "print (text_2.replace('Python', 'PyThOn'))\n",
    "\n"
   ]
  },
  {
   "cell_type": "markdown",
   "metadata": {},
   "source": [
    "Apskaiciuoti dvieju INT suma, skirtuma, sandauga, liekana, padalinkite is kito"
   ]
  },
  {
   "cell_type": "code",
   "execution_count": 34,
   "metadata": {},
   "outputs": [
    {
     "name": "stdout",
     "output_type": "stream",
     "text": [
      "4\n",
      "0\n",
      "0\n",
      "4\n",
      "1.0\n"
     ]
    }
   ],
   "source": [
    "int_1 = 2\n",
    "int_2 = 2\n",
    "print ( int_1 + int_2 )\n",
    "print ( int_1 % int_2)\n",
    "print ( int_1 - int_2 )\n",
    "print ( int_1 * int_2 )\n",
    "print ( int_1 / int_2 )\n"
   ]
  },
  {
   "cell_type": "markdown",
   "metadata": {},
   "source": [
    "Apskaiciuokit dvieju float suma, skirtuma sandauga liekana ir padalinti"
   ]
  },
  {
   "cell_type": "code",
   "execution_count": 36,
   "metadata": {},
   "outputs": [
    {
     "name": "stdout",
     "output_type": "stream",
     "text": [
      "4.4\n",
      "0.0\n",
      "0.0\n",
      "4.840000000000001\n",
      "1.0\n"
     ]
    }
   ],
   "source": [
    "float_1 = 2.2\n",
    "float_2 = 2.2\n",
    "print ( float_1 + float_2 )\n",
    "print ( float_1 % float_2)\n",
    "print ( float_1 - float_2 )\n",
    "print ( float_1 * float_2 )\n",
    "print ( float_1 / float_2 )"
   ]
  },
  {
   "cell_type": "markdown",
   "metadata": {},
   "source": [
    "Apskaiciuoti atstuma tarp saules ir menulio su pateiktais duomenimis"
   ]
  },
  {
   "cell_type": "code",
   "execution_count": 38,
   "metadata": {},
   "outputs": [
    {
     "name": "stdout",
     "output_type": "stream",
     "text": [
      "390.625\n",
      "2560.0\n",
      "3.4408602150537635\n",
      "0.2922374429223744\n",
      "9216000.0\n"
     ]
    }
   ],
   "source": [
    "moon = 384000\n",
    "sun = 150000000\n",
    "speed_per_hour = 150\n",
    "\n",
    "day = speed_per_hour*24\n",
    "month = day*31\n",
    "year = day*365\n",
    "minute = speed_per_hour/60\n",
    "second = minute/60\n",
    "\n",
    "# atstumas nup saulės iki mėnulio:\n",
    "print(sun/moon)\n",
    "\n",
    "# valandų skaičius iki mėnulio:\n",
    "print(moon/speed_per_hour)\n",
    "\n",
    "#kiek menesiu iki mėnulio:\n",
    "print(moon/month)\n",
    "\n",
    "#kiek metų iki mėnulio:\n",
    "print(moon/year)\n",
    "\n",
    "# kiek sekundžių:\n",
    "print(moon/second)\n",
    "\n"
   ]
  },
  {
   "cell_type": "code",
   "execution_count": 47,
   "metadata": {},
   "outputs": [
    {
     "name": "stdout",
     "output_type": "stream",
     "text": [
      "8673\n",
      "749423313.463601\n",
      "8673 days, 21:08:33.463601\n"
     ]
    }
   ],
   "source": [
    "from datetime import datetime, timedelta\n",
    "\n",
    "birthday = datetime(1998, 4, 16)\n",
    "now = datetime.now()\n",
    "time_passed = now - birthday\n",
    "print (time_passed.days)\n",
    "print (time_passed.total_seconds())\n",
    "print (time_passed) \n"
   ]
  }
 ],
 "metadata": {
  "interpreter": {
   "hash": "b0fa6594d8f4cbf19f97940f81e996739fb7646882a419484c72d19e05852a7e"
  },
  "kernelspec": {
   "display_name": "Python 3.9.9 64-bit",
   "language": "python",
   "name": "python3"
  },
  "language_info": {
   "codemirror_mode": {
    "name": "ipython",
    "version": 3
   },
   "file_extension": ".py",
   "mimetype": "text/x-python",
   "name": "python",
   "nbconvert_exporter": "python",
   "pygments_lexer": "ipython3",
   "version": "3.9.9"
  },
  "orig_nbformat": 4
 },
 "nbformat": 4,
 "nbformat_minor": 2
}
