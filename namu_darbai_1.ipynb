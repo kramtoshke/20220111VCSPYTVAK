{
 "cells": [
  {
   "cell_type": "markdown",
   "metadata": {},
   "source": [
    "1. Iš pirmų 100 skaičių, jeigu skaičius dalinasi iš 2 be liekanos, atspausdinkite ‘Fizz’, jeigu skaičius dalinasi iš 3 be liekanos atspausdinkite ‘Buzz’, jei skaičius dalinasi iš 2 ir 3 be liekanos, atspausdinkite ‘FizzBuzz’"
   ]
  },
  {
   "cell_type": "code",
   "execution_count": null,
   "metadata": {},
   "outputs": [],
   "source": [
    "for FizzBuzz in range(1,101):\n",
    "    if (FizzBuzz % 2 == 0 and FizzBuzz % 3 == 0):\n",
    "        print(\"FizzBuzz\")\n",
    "    elif(FizzBuzz % 2 == 0 ):\n",
    "        print(\"Fizz\")\n",
    "    elif(FizzBuzz % 3 == 0 ):\n",
    "        print(\"Buzz\")"
   ]
  },
  {
   "cell_type": "markdown",
   "metadata": {},
   "source": [
    "2. Leiskite vartotojui pasirinkti skaičių, jeigu įvestas skaičius yra daugiau arba lygus 10, atspausdinkite visus skaičius iki pateikto skaičiaus, kurie dalinasi iš 5 su liekana"
   ]
  },
  {
   "cell_type": "code",
   "execution_count": null,
   "metadata": {},
   "outputs": [],
   "source": [
    "skaicius = input('iveskite skaiciu')\n",
    "skaicius = float (skaicius)\n",
    "if (skaicius) >=10:\n",
    "       print(skaicius)\n",
    "       print(range(skaicius))\n",
    "\n"
   ]
  },
  {
   "cell_type": "code",
   "execution_count": 1,
   "metadata": {},
   "outputs": [
    {
     "name": "stdout",
     "output_type": "stream",
     "text": [
      "[10, 5, 45, 79, 33, 22, 11]\n"
     ]
    }
   ],
   "source": [
    "list = [10, 5, 45, 79, 33, 22, 11]\n",
    "print(list)\n",
    "list=input (\"Pasirinkite skaiciu is saraso:\")\n",
    "\n"
   ]
  }
 ],
 "metadata": {
  "interpreter": {
   "hash": "b0fa6594d8f4cbf19f97940f81e996739fb7646882a419484c72d19e05852a7e"
  },
  "kernelspec": {
   "display_name": "Python 3.9.9 64-bit",
   "language": "python",
   "name": "python3"
  },
  "language_info": {
   "codemirror_mode": {
    "name": "ipython",
    "version": 3
   },
   "file_extension": ".py",
   "mimetype": "text/x-python",
   "name": "python",
   "nbconvert_exporter": "python",
   "pygments_lexer": "ipython3",
   "version": "3.9.9"
  },
  "orig_nbformat": 4
 },
 "nbformat": 4,
 "nbformat_minor": 2
}
