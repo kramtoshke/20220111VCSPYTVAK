{
 "cells": [
  {
   "cell_type": "markdown",
   "metadata": {},
   "source": [
    "1. Iš pirmų 100 skaičių, jeigu skaičius dalinasi iš 2 be liekanos, atspausdinkite ‘Fizz’, jeigu skaičius dalinasi iš 3 be liekanos atspausdinkite ‘Buzz’, jei skaičius dalinasi iš 2 ir 3 be liekanos, atspausdinkite ‘FizzBuzz’"
   ]
  },
  {
   "cell_type": "code",
   "execution_count": 112,
   "metadata": {},
   "outputs": [
    {
     "name": "stdout",
     "output_type": "stream",
     "text": [
      "Fizz\n",
      "Buzz\n",
      "Fizz\n",
      "FizzBuzz\n",
      "Fizz\n",
      "Buzz\n",
      "Fizz\n",
      "FizzBuzz\n",
      "Fizz\n",
      "Buzz\n",
      "Fizz\n",
      "FizzBuzz\n",
      "Fizz\n",
      "Buzz\n",
      "Fizz\n",
      "FizzBuzz\n",
      "Fizz\n",
      "Buzz\n",
      "Fizz\n",
      "FizzBuzz\n",
      "Fizz\n",
      "Buzz\n",
      "Fizz\n",
      "FizzBuzz\n",
      "Fizz\n",
      "Buzz\n",
      "Fizz\n",
      "FizzBuzz\n",
      "Fizz\n",
      "Buzz\n",
      "Fizz\n",
      "FizzBuzz\n",
      "Fizz\n",
      "Buzz\n",
      "Fizz\n",
      "FizzBuzz\n",
      "Fizz\n",
      "Buzz\n",
      "Fizz\n",
      "FizzBuzz\n",
      "Fizz\n",
      "Buzz\n",
      "Fizz\n",
      "FizzBuzz\n",
      "Fizz\n",
      "Buzz\n",
      "Fizz\n",
      "FizzBuzz\n",
      "Fizz\n",
      "Buzz\n",
      "Fizz\n",
      "FizzBuzz\n",
      "Fizz\n",
      "Buzz\n",
      "Fizz\n",
      "FizzBuzz\n",
      "Fizz\n",
      "Buzz\n",
      "Fizz\n",
      "FizzBuzz\n",
      "Fizz\n",
      "Buzz\n",
      "Fizz\n",
      "FizzBuzz\n",
      "Fizz\n",
      "Buzz\n",
      "Fizz\n"
     ]
    }
   ],
   "source": [
    "for number in range(1,101):\n",
    "    if number % 2 == 0 and number % 3 == 0:\n",
    "        print(\"FizzBuzz\")\n",
    "    elif number % 2 == 0 :\n",
    "        print (\"Fizz\")\n",
    "    elif number % 3 == 0 :\n",
    "        print(\"Buzz\")\n"
   ]
  },
  {
   "cell_type": "markdown",
   "metadata": {},
   "source": [
    "2. Leiskite vartotojui pasirinkti skaičių, jeigu įvestas skaičius yra daugiau arba lygus 10, atspausdinkite visus skaičius iki pateikto skaičiaus, kurie dalinasi iš 5 su liekana"
   ]
  },
  {
   "cell_type": "code",
   "execution_count": 53,
   "metadata": {},
   "outputs": [
    {
     "name": "stdout",
     "output_type": "stream",
     "text": [
      "1\n",
      "2\n",
      "3\n",
      "4\n",
      "6\n",
      "7\n",
      "8\n",
      "9\n",
      "11\n"
     ]
    }
   ],
   "source": [
    "number = int (input ('iveskite skaiciu'))\n",
    "if number >=10 :\n",
    "    for i in range ( number ) :\n",
    "        if (i % 5 != 0) :\n",
    "            print ((i))"
   ]
  },
  {
   "cell_type": "markdown",
   "metadata": {},
   "source": [
    "3. Koks yra sąrašo ilgis sudaryto iš pateiktų sąrašų kombinacijų, jeigu norime rasti visas įmanomas reikšmes? Išrikiuokite sąrašą nuo didžiausios iki mažiausios reikšmės (teks atlikti papildomų veiksmų tam atlikti teisingai)"
   ]
  },
  {
   "cell_type": "code",
   "execution_count": 109,
   "metadata": {},
   "outputs": [
    {
     "ename": "SyntaxError",
     "evalue": "invalid syntax (3569395985.py, line 6)",
     "output_type": "error",
     "traceback": [
      "\u001b[0;36m  File \u001b[0;32m\"/var/folders/n7/nl3r51111bd91bmy_cbvf8100000gn/T/ipykernel_95214/3569395985.py\"\u001b[0;36m, line \u001b[0;32m6\u001b[0m\n\u001b[0;31m    for a in a\u001b[0m\n\u001b[0m               ^\u001b[0m\n\u001b[0;31mSyntaxError\u001b[0m\u001b[0;31m:\u001b[0m invalid syntax\n"
     ]
    }
   ],
   "source": [
    "a = ['1','2','3','4','5']\n",
    "b = ['labas', 'vakaras', 'kokia grazi diena', 'siandien uz lango', '10 laipsniu silumos']\n",
    "c = ['100', '200', 40, 10]\n",
    "\n",
    "kombinacijos = []\n",
    "for a in a and b and c:\n",
    "    for b in a and b and c:\n",
    "        for z in a and b and c:\n",
    "                \n",
    "            \n",
    "            kombinacijos.append( (x, y, z) )\n",
    "print( kombinacijos)\n",
    "\n",
    "a.sort(reverse=True)\n",
    "print(a)\n",
    "\n",
    "\n",
    "\n",
    "\n"
   ]
  }
 ],
 "metadata": {
  "interpreter": {
   "hash": "b0fa6594d8f4cbf19f97940f81e996739fb7646882a419484c72d19e05852a7e"
  },
  "kernelspec": {
   "display_name": "Python 3.9.9 64-bit",
   "language": "python",
   "name": "python3"
  },
  "language_info": {
   "codemirror_mode": {
    "name": "ipython",
    "version": 3
   },
   "file_extension": ".py",
   "mimetype": "text/x-python",
   "name": "python",
   "nbconvert_exporter": "python",
   "pygments_lexer": "ipython3",
   "version": "3.9.9"
  },
  "orig_nbformat": 4
 },
 "nbformat": 4,
 "nbformat_minor": 2
}
